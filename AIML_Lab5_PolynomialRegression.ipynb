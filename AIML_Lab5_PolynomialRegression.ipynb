{
  "nbformat": 4,
  "nbformat_minor": 0,
  "metadata": {
    "colab": {
      "provenance": [],
      "collapsed_sections": [],
      "include_colab_link": true
    },
    "kernelspec": {
      "name": "python3",
      "display_name": "Python 3"
    },
    "language_info": {
      "name": "python"
    }
  },
  "cells": [
    {
      "cell_type": "markdown",
      "metadata": {
        "id": "view-in-github",
        "colab_type": "text"
      },
      "source": [
        "<a href=\"https://colab.research.google.com/github/diptaban/Regression/blob/main/AIML_Lab5_PolynomialRegression.ipynb\" target=\"_parent\"><img src=\"https://colab.research.google.com/assets/colab-badge.svg\" alt=\"Open In Colab\"/></a>"
      ]
    },
    {
      "cell_type": "markdown",
      "source": [
        "# Polynomial Regression\n",
        "\n",
        "> 1. Take ten random values of X, type of X should be <class 'numpy.ndarray'>. Create polynomial $y$ as, $y = 6+4x+3x^2+7x^3$\n",
        "\n",
        "\n",
        "\n",
        "> 2. Preprocess X, as \n",
        "$ X = \n",
        " \\begin{pmatrix}\n",
        "1 & x^{(1)} & x^{(1)2} & x^{(1)3}  \\\\\n",
        "1 & x^{(2)} & x^{(2)2} & x^{(2)3}  \\\\\n",
        "1 & x^{(3)} & x^{(3)2} & x^{(3)3}  \\\\\n",
        "1 & x^{(4)} & x^{(4)2} & x^{(4)3} \n",
        "\\end{pmatrix}$\n",
        "\n",
        "> 3. Randomly initialize the weights $(\\theta_0,\\theta_1,...\\theta_n)$\n",
        "\n",
        "## for $i = 1$ to no. of epochs {\n",
        "> 3. Calculate hypothesis : $h_\\theta(x^{(i)}) = \\theta_0 + \\theta_1x^{(i)}+\\theta_2x^{(i)2}+\\theta_3x^{(i)3}$\n",
        "\n",
        "> 4. Calculate average mean squared error:\n",
        "$J = \\frac{1}{2m}\\sum_{i=1}^m(h_\\theta(x^{(i)})-y^{(i)})^2$\n",
        "\n",
        "> 5. Update \n",
        " > $\\theta_0 := \\theta_0 - \\frac{\\alpha}{m}\\sum_{i=1}^m(h(x^{(i)}-y^{(i)})$\n",
        " > $\\theta_j := \\theta_j - \\frac{\\alpha}{m}\\sum_{i=1}^m(h(x^{(i)}-y^{(i)})x_j^{(i)}$, $j=0,1,2,...n$\n",
        "##}\n",
        "\n",
        "\n",
        "\n",
        "\n",
        "\n",
        "\n",
        "\n",
        "\n",
        "\n"
      ],
      "metadata": {
        "id": "s5FCqr-2FWrt"
      }
    },
    {
      "cell_type": "code",
      "execution_count": null,
      "metadata": {
        "colab": {
          "base_uri": "https://localhost:8080/",
          "height": 295
        },
        "id": "2mjQWhF06CHz",
        "outputId": "51669270-d238-4e8d-8e5b-fd9c9f5cfc31"
      },
      "outputs": [
        {
          "output_type": "stream",
          "name": "stderr",
          "text": [
            "/usr/local/lib/python3.7/dist-packages/ipykernel_launcher.py:19: MatplotlibDeprecationWarning: Adding an axes using the same arguments as a previous axes currently reuses the earlier instance.  In a future version, a new instance will always be created and returned.  Meanwhile, this warning can be suppressed, and the future behavior ensured, by passing a unique label to each axes instance.\n"
          ]
        },
        {
          "output_type": "display_data",
          "data": {
            "text/plain": [
              "<Figure size 432x288 with 1 Axes>"
            ],
            "image/png": "[encoded data removed]"
          },
          "metadata": {
            "needs_background": "light"
          }
        }
      ],
      "source": [
        "#!/usr/bin/env python3\n",
        "# -*- coding: utf-8 -*-\n",
        "\"\"\"\n",
        "Created on Thu Feb 24 10:10:07 2022\n",
        "\n",
        "@author: pradipta\n",
        "\"\"\"\n",
        "import numpy as np\n",
        "import matplotlib.pyplot as plt\n",
        "\n",
        "fig = plt.figure()\n",
        "ax = fig.add_subplot(1, 1, 1)\n",
        "ax.spines['left'].set_position('center')\n",
        "ax.spines['bottom'].set_position('center')\n",
        "ax.spines['right'].set_color('none')\n",
        "ax.spines['top'].set_color('none')\n",
        "ax.xaxis.set_ticks_position('bottom')\n",
        "ax.yaxis.set_ticks_position('left')\n",
        "ax = fig.add_subplot(1, 1, 1)\n",
        "\n",
        "def square_(x):\n",
        "    return x**2\n",
        "def cube_(x):\n",
        "    return x**3\n",
        "def fpow_(x):\n",
        "    return x**4\n",
        "\n",
        "\n",
        "def preprocessing(X):\n",
        "    c = np.array(list(map(square_, X)))\n",
        "    d = np.array(list(map(cube_,X)))\n",
        "    e = np.array(list(map(fpow_,X)))\n",
        "    X = np.concatenate((X,c),axis=1)\n",
        "    X = np.concatenate((X,d),axis=1)\n",
        "    #X = np.concatenate((X,e),axis=1)\n",
        "    for i in range(np.shape(X)[1]):\n",
        "        X[:,i] = X[:,i]/max(X[:,i])\n",
        "    return X\n",
        "    \n",
        "    \n",
        "\n",
        "def gradientDescent(X,y,epochs,alpha):\n",
        "    cost =[]\n",
        "    X = preprocessing(X)\n",
        "    m = np.shape(X)[0]\n",
        "    X = np.concatenate((np.ones((m, 1)), X), axis=1)\n",
        "    print('X'+str(X))\n",
        "    n = np.shape(X)[1]\n",
        "    \n",
        "    W = np.random.rand(n,1)\n",
        "    for i in range(epochs):\n",
        "        h = np.dot(X,W)\n",
        "        mse = (1/2*m)*sum((h-y)**2)\n",
        "        D = h-y\n",
        "        cost.append(mse)\n",
        "        W = W - (alpha/2)*(np.dot(X.T,D))\n",
        "    return(W,h,cost)\n",
        "\n",
        "#X = np.array([[1,1.4],[4,3.2],[7,6.5],[3,4.5]])\n",
        "#X = np.array([[1.0],[2.0],[3.0],[4.0],[5.0]])\n",
        "\n",
        "\n",
        "    \n",
        "\n",
        "\n",
        "\n"
      ]
    },
    {
      "cell_type": "code",
      "source": [
        "#X = np.random.rand(10,1)\n",
        "#y = 6+4*X+3*X**2+7*X**3\n",
        "\n",
        "X = np.array([[3.6],[7.2],[12.4],[20.0],[56.0],[64.00],[72.000],[82.000]])\n",
        "y=np.array([[0.2],[0.4],[0.6],[1.0],[1.5],[0.6],[0.4],[0.2]])\n",
        "\n",
        "print(X.shape)\n",
        "print(y.shape)\n",
        "plt.plot(y)\n",
        "# epochs = 1000, alpha = 0.01\n",
        "# fixed epochs = 500, change alpha = 0.0001,0.001,0.01\n",
        "(W,h,cost)=gradientDescent(X,  y, epochs=200, alpha=0.1)\n",
        "#print(W)\n",
        "#plt.plot(cost,'.g')  \n",
        "plt.plot(h,'-r')\n",
        "print(W)"
      ],
      "metadata": {
        "colab": {
          "base_uri": "https://localhost:8080/",
          "height": 508
        },
        "id": "K6YhJv-0NCwh",
        "outputId": "fa982790-15cf-4f31-fe78-d49ac2531b74"
      },
      "execution_count": null,
      "outputs": [
        {
          "output_type": "stream",
          "name": "stdout",
          "text": [
            "(8, 1)\n",
            "(8, 1)\n",
            "X[[1.00000000e+00 4.39024390e-02 1.92742415e-03 8.46186213e-05]\n",
            " [1.00000000e+00 8.78048780e-02 7.70969661e-03 6.76948971e-04]\n",
            " [1.00000000e+00 1.51219512e-01 2.28673409e-02 3.45798813e-03]\n",
            " [1.00000000e+00 2.43902439e-01 5.94883998e-02 1.45093658e-02]\n",
            " [1.00000000e+00 6.82926829e-01 4.66389054e-01 3.18509598e-01]\n",
            " [1.00000000e+00 7.80487805e-01 6.09161214e-01 4.75442898e-01]\n",
            " [1.00000000e+00 8.78048780e-01 7.70969661e-01 6.76948971e-01]\n",
            " [1.00000000e+00 1.00000000e+00 1.00000000e+00 1.00000000e+00]]\n",
            "[[ 0.46817803]\n",
            " [ 1.13924825]\n",
            " [-0.02459346]\n",
            " [-1.27064151]]\n"
          ]
        },
        {
          "output_type": "display_data",
          "data": {
            "text/plain": [
              "<Figure size 432x288 with 1 Axes>"
            ],
            "image/png": "[encoded data removed]"
          },
          "metadata": {
            "needs_background": "light"
          }
        }
      ]
    },
    {
      "cell_type": "code",
      "source": [
        "print(cost)"
      ],
      "metadata": {
        "id": "phdbviyGqwTs",
        "outputId": "6eb6f022-30d1-4d8e-e3ff-7367d2fa4672",
        "colab": {
          "base_uri": "https://localhost:8080/"
        }
      },
      "execution_count": null,
      "outputs": [
        {
          "output_type": "stream",
          "name": "stderr",
          "text": [
            "IOPub data rate exceeded.\n",
            "The notebook server will temporarily stop sending output\n",
            "to the client in order to avoid crashing it.\n",
            "To change this limit, set the config variable\n",
            "`--NotebookApp.iopub_data_rate_limit`.\n",
            "\n",
            "Current values:\n",
            "NotebookApp.iopub_data_rate_limit=1000000.0 (bytes/sec)\n",
            "NotebookApp.rate_limit_window=3.0 (secs)\n",
            "\n"
          ]
        }
      ]
    },
    {
      "cell_type": "code",
      "source": [
        "X = np.array([[3.6],[7.2],[12.4],[20.0],[56.0],[64.00],[72.000],[82.000]])\n",
        "y=0.2*np.array([[0.2],[0.4],[0.6],[0.8],[0.8],[0.6],[0.4],[0.2]])\n",
        "X = preprocessing(X)\n",
        "m = np.shape(X)[0]\n",
        "X = np.concatenate((np.ones((m, 1)), X), axis=1)\n",
        "fst = np.linalg.inv(X.T.dot(X))\n",
        "snd = X.T.dot(y)\n",
        "theta = fst.dot(snd)\n",
        "print(theta)\n",
        "print(theta.shape)\n",
        "x = (np.array([np.linspace(1, 82, 100)])).T\n",
        "print(x.shape)\n",
        "x  = preprocessing(x)\n",
        "m = np.shape(x)[0]\n",
        "x= np.concatenate((np.ones((m, 1)), x), axis=1)\n",
        "\n",
        "hyp = x.dot(theta)\n",
        "\n",
        "plt.plot(hyp)"
      ],
      "metadata": {
        "colab": {
          "base_uri": "https://localhost:8080/",
          "height": 387
        },
        "id": "h3YPQn8nXkO2",
        "outputId": "bd26914d-12d8-43fc-c25f-c8c38c4a824b"
      },
      "execution_count": null,
      "outputs": [
        {
          "output_type": "stream",
          "name": "stdout",
          "text": [
            "[[-1.39199004e-05]\n",
            " [ 1.00795614e+00]\n",
            " [-1.52125699e+00]\n",
            " [ 5.50794656e-01]]\n",
            "(4, 1)\n",
            "(100, 1)\n"
          ]
        },
        {
          "output_type": "execute_result",
          "data": {
            "text/plain": [
              "[<matplotlib.lines.Line2D at 0x7f3e5fdc18d0>]"
            ]
          },
          "metadata": {},
          "execution_count": 4
        },
        {
          "output_type": "display_data",
          "data": {
            "text/plain": [
              "<Figure size 432x288 with 1 Axes>"
            ],
            "image/png": "[encoded data removed]"
          },
          "metadata": {
            "needs_background": "light"
          }
        }
      ]
    },
    {
      "cell_type": "code",
      "source": [
        "x = np.array([3.6,7.2,12.4,30.0,56.0,64.00,72.000,82.000])\n",
        "y=0.1*np.array([0.2,0.4,0.6,0.8,0.8,0.6,0.4,0.2])\n",
        "\n",
        "#x = np.array([3.6,10.2,25,60,75.000,82.000])\n",
        "#y=0.5*np.array([0.2,0.4,0.6,0.6,0.4,0.2])\n",
        "\n",
        "z = np.polyfit(x, y, 5)\n",
        "mymodel = np.poly1d(z)\n",
        "myline = np.linspace(3.6, 82, 100)\n",
        "\n",
        "plt.scatter(x, y)\n",
        "plt.plot(myline, mymodel(myline))\n",
        "plt.show()\n",
        "print(z.shape)"
      ],
      "metadata": {
        "colab": {
          "base_uri": "https://localhost:8080/",
          "height": 286
        },
        "id": "zvstgRdFY6AU",
        "outputId": "288af5b1-a0b8-4f5c-cc7b-2bbeffe1a8b8"
      },
      "execution_count": null,
      "outputs": [
        {
          "output_type": "display_data",
          "data": {
            "text/plain": [
              "<Figure size 432x288 with 1 Axes>"
            ],
            "image/png": "[encoded data removed]"
          },
          "metadata": {
            "needs_background": "light"
          }
        },
        {
          "output_type": "stream",
          "name": "stdout",
          "text": [
            "(6,)\n"
          ]
        }
      ]
    },
    {
      "cell_type": "code",
      "source": [
        "import numpy as np\n",
        "import matplotlib.pyplot as plt\n",
        "theta = [-0.0011629584789889572, 0.05402182264535082, 0.050366925606219894]\n",
        "#x = np.array([1.0, 2.0, 3.0, 4.0, 5.0, 6.0, 7.0, 8.0, 9.0, 10.0, 11.0, 12.0, 13.0, 14.0, 15.0])\n",
        "#y = np.array([1.0, 4.0, 9.0, 16.0, 25.0, 36.0, 49.0, 64.0, 81.0, 100.0, 121.0, 144.0, 169.0, 196.0, 225.0])\n",
        "x = np.array([3.6,7.2,12.4,30.0,56.0,64.00,72.000,82.000])\n",
        "y = np.array([0.2,0.4,0.6,0.8,0.8,0.6,0.4,0.2])\n",
        "z = np.polyfit(x, y, 2)\n",
        "print(z)\n",
        "mymodel = np.poly1d(theta)\n",
        "myline = np.linspace(3.6, 82, 100)\n",
        "plt.scatter(x, y)\n",
        "plt.plot(myline, mymodel(myline))\n",
        "plt.show()"
      ],
      "metadata": {
        "colab": {
          "base_uri": "https://localhost:8080/",
          "height": 287
        },
        "id": "6dMsxLEZoyqm",
        "outputId": "ed4a3c94-653f-4690-e2cd-7545e601048e"
      },
      "execution_count": null,
      "outputs": [
        {
          "output_type": "stream",
          "name": "stdout",
          "text": [
            "[-0.00042357  0.03466546  0.15479116]\n"
          ]
        },
        {
          "output_type": "display_data",
          "data": {
            "text/plain": [
              "<Figure size 432x288 with 1 Axes>"
            ],
            "image/png": "[encoded data removed]"
          },
          "metadata": {
            "needs_background": "light"
          }
        }
      ]
    }
  ]
}